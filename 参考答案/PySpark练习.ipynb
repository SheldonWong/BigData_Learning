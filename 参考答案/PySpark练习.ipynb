{
 "cells": [
  {
   "cell_type": "markdown",
   "metadata": {},
   "source": [
    "### 数据处理"
   ]
  },
  {
   "cell_type": "code",
   "execution_count": 42,
   "metadata": {},
   "outputs": [],
   "source": [
    "import numpy as np\n",
    "import re\n",
    "import matplotlib.pyplot as plt"
   ]
  },
  {
   "cell_type": "markdown",
   "metadata": {},
   "source": [
    "**读取数据**"
   ]
  },
  {
   "cell_type": "code",
   "execution_count": 2,
   "metadata": {},
   "outputs": [],
   "source": [
    "user_data = sc.textFile(\"/test/ml-100k/u.user\")\n",
    "movie_data = sc.textFile(\"/test/ml-100k/u.item\")\n",
    "ratings_data = sc.textFile(\"/test/ml-100k/u.data\")"
   ]
  },
  {
   "cell_type": "code",
   "execution_count": 3,
   "metadata": {},
   "outputs": [
    {
     "name": "stdout",
     "output_type": "stream",
     "text": [
      "1|24|M|technician|85711\n",
      "1|Toy Story (1995)|01-Jan-1995||http://us.imdb.com/M/title-exact?Toy%20Story%20(1995)|0|0|0|1|1|1|0|0|0|0|0|0|0|0|0|0|0|0|0\n",
      "196\t242\t3\t881250949\n"
     ]
    }
   ],
   "source": [
    "print(user_data.first())\n",
    "print(movie_data.first())\n",
    "print(ratings_data.first())"
   ]
  },
  {
   "cell_type": "markdown",
   "metadata": {},
   "source": [
    "**对RDD的数据进行处理(切分)**"
   ]
  },
  {
   "cell_type": "code",
   "execution_count": 4,
   "metadata": {},
   "outputs": [],
   "source": [
    "user_rdd = user_data.map(lambda line: line.split(\"|\"))\n",
    "movie_rdd = movie_data.map(lambda line: line.split(\"|\"))\n",
    "ratings_rdd = ratings_data.map(lambda line: line.split(\"\\t\"))\n"
   ]
  },
  {
   "cell_type": "code",
   "execution_count": 5,
   "metadata": {},
   "outputs": [],
   "source": [
    "# 将RDD转化为DF\n",
    "user_df = sqlContext.createDataFrame(user_rdd).toPandas()\n",
    "movie_df = sqlContext.createDataFrame(movie_rdd).toPandas()\n",
    "ratings_df = sqlContext.createDataFrame(ratings_rdd).toPandas()\n"
   ]
  },
  {
   "cell_type": "code",
   "execution_count": 6,
   "metadata": {},
   "outputs": [],
   "source": [
    "# Rename列名\n",
    "user_df.columns = ['UserID',\"Age\",'Gender',\"Occupation\",\"Zip-code\"]\n",
    "ratings_df.columns = ['UserID','MovieID',\"Rating\",\"Timestamp\"]\n",
    "# movie_df.columns = ['MovieID','Title',\"ReleaseDate\",\"VideoLink\",\"Other\"]"
   ]
  },
  {
   "cell_type": "markdown",
   "metadata": {},
   "source": [
    "### 探索用户数据"
   ]
  },
  {
   "cell_type": "code",
   "execution_count": 7,
   "metadata": {},
   "outputs": [],
   "source": [
    "# 获取评分RDD\n",
    "ratings = user_rdd.map(lambda fields: int(fields[2]))"
   ]
  },
  {
   "cell_type": "code",
   "execution_count": 8,
   "metadata": {},
   "outputs": [
    {
     "data": {
      "text/html": [
       "<div>\n",
       "<style scoped>\n",
       "    .dataframe tbody tr th:only-of-type {\n",
       "        vertical-align: middle;\n",
       "    }\n",
       "\n",
       "    .dataframe tbody tr th {\n",
       "        vertical-align: top;\n",
       "    }\n",
       "\n",
       "    .dataframe thead th {\n",
       "        text-align: right;\n",
       "    }\n",
       "</style>\n",
       "<table border=\"1\" class=\"dataframe\">\n",
       "  <thead>\n",
       "    <tr style=\"text-align: right;\">\n",
       "      <th></th>\n",
       "      <th>UserID</th>\n",
       "      <th>MovieID</th>\n",
       "      <th>Rating</th>\n",
       "      <th>Timestamp</th>\n",
       "    </tr>\n",
       "  </thead>\n",
       "  <tbody>\n",
       "    <tr>\n",
       "      <th>0</th>\n",
       "      <td>196</td>\n",
       "      <td>242</td>\n",
       "      <td>3</td>\n",
       "      <td>881250949</td>\n",
       "    </tr>\n",
       "    <tr>\n",
       "      <th>1</th>\n",
       "      <td>186</td>\n",
       "      <td>302</td>\n",
       "      <td>3</td>\n",
       "      <td>891717742</td>\n",
       "    </tr>\n",
       "    <tr>\n",
       "      <th>2</th>\n",
       "      <td>22</td>\n",
       "      <td>377</td>\n",
       "      <td>1</td>\n",
       "      <td>878887116</td>\n",
       "    </tr>\n",
       "    <tr>\n",
       "      <th>3</th>\n",
       "      <td>244</td>\n",
       "      <td>51</td>\n",
       "      <td>2</td>\n",
       "      <td>880606923</td>\n",
       "    </tr>\n",
       "    <tr>\n",
       "      <th>4</th>\n",
       "      <td>166</td>\n",
       "      <td>346</td>\n",
       "      <td>1</td>\n",
       "      <td>886397596</td>\n",
       "    </tr>\n",
       "  </tbody>\n",
       "</table>\n",
       "</div>"
      ],
      "text/plain": [
       "  UserID MovieID Rating  Timestamp\n",
       "0    196     242      3  881250949\n",
       "1    186     302      3  891717742\n",
       "2     22     377      1  878887116\n",
       "3    244      51      2  880606923\n",
       "4    166     346      1  886397596"
      ]
     },
     "execution_count": 8,
     "metadata": {},
     "output_type": "execute_result"
    }
   ],
   "source": [
    "ratings_df[:5]"
   ]
  },
  {
   "cell_type": "code",
   "execution_count": 9,
   "metadata": {},
   "outputs": [],
   "source": [
    "\n",
    "# 统计用户数\n",
    "num_users = user_rdd.map(lambda fields: fields[0]).count()\n",
    "# 统计性别数\n",
    "num_genders = user_rdd.map(lambda fields: fields[2]).distinct().count()\n",
    "# 统计职业数\n",
    "num_occupations = user_rdd.map(lambda fields: fields[3]).distinct().count()\n",
    "# 统计邮编数\n",
    "num_zipcodes = user_rdd.map(lambda fields: fields[4]).distinct().count()\n",
    "# 返回结果"
   ]
  },
  {
   "cell_type": "code",
   "execution_count": 10,
   "metadata": {},
   "outputs": [
    {
     "name": "stdout",
     "output_type": "stream",
     "text": [
      "用户数: 943, 性别数: 2, 职业数: 21, 邮编数: 795\n"
     ]
    }
   ],
   "source": [
    "print( \"用户数: %d, 性别数: %d, 职业数: %d, 邮编数: %d\" % (num_users, num_genders, num_occupations, num_zipcodes))"
   ]
  },
  {
   "cell_type": "code",
   "execution_count": 12,
   "metadata": {},
   "outputs": [],
   "source": [
    "# 获取用户年龄RDD，并将其落地到驱动程序\n",
    "ages = user_rdd.map(lambda x: int(x[1])).collect()"
   ]
  },
  {
   "cell_type": "code",
   "execution_count": 13,
   "metadata": {},
   "outputs": [
    {
     "name": "stderr",
     "output_type": "stream",
     "text": [
      "/home/heitao/anaconda3/lib/python3.7/site-packages/matplotlib/axes/_axes.py:6521: MatplotlibDeprecationWarning: \n",
      "The 'normed' kwarg was deprecated in Matplotlib 2.1 and will be removed in 3.1. Use 'density' instead.\n",
      "  alternative=\"'density'\", removal=\"3.1\")\n"
     ]
    },
    {
     "data": {
      "image/png": "[encoded data removed]",
      "text/plain": [
       "<Figure size 432x288 with 1 Axes>"
      ]
     },
     "metadata": {
      "needs_background": "light"
     },
     "output_type": "display_data"
    }
   ],
   "source": [
    "# 绘制用户年龄直方图\n",
    "\n",
    "age_hist= plt.hist(ages, bins=20, color='lightblue', normed=True)"
   ]
  },
  {
   "cell_type": "code",
   "execution_count": 14,
   "metadata": {},
   "outputs": [],
   "source": [
    "# 并行统计各职业人数的个数，返回职业统计RDD后落地\n",
    "count_by_occupation = user_rdd.map(lambda fields: (fields[3], 1)).reduceByKey(lambda x, y: x + y).collect()\n",
    "# count_by_occupation2 = user_rdd.map(lambda fields: fields[3]).countByValue()"
   ]
  },
  {
   "cell_type": "code",
   "execution_count": 15,
   "metadata": {},
   "outputs": [
    {
     "data": {
      "image/png": "[encoded data removed]",
      "text/plain": [
       "<Figure size 432x288 with 1 Axes>"
      ]
     },
     "metadata": {
      "needs_background": "light"
     },
     "output_type": "display_data"
    }
   ],
   "source": [
    "# 生成x/y坐标轴\n",
    "x_axis1 = np.array([c[0] for c in count_by_occupation])\n",
    "y_axis1 = np.array([c[1] for c in count_by_occupation])\n",
    "x_axis = x_axis1[np.argsort(y_axis1)]\n",
    "y_axis = y_axis1[np.argsort(y_axis1)]\n",
    " \n",
    "# 生成x轴标签\n",
    "pos = np.arange(len(x_axis))\n",
    "width = 1.0\n",
    "ax = plt.axes()\n",
    "ax.set_xticks(pos + (width / 2))\n",
    "ax.set_xticklabels(x_axis)\n",
    " \n",
    "# 绘制职业人数条状图\n",
    "plt.xticks(rotation=30)\n",
    "occupation_bar = plt.bar(pos, y_axis, width, color='lightblue')"
   ]
  },
  {
   "cell_type": "code",
   "execution_count": 16,
   "metadata": {},
   "outputs": [],
   "source": [
    "count_by_occupation2 = user_rdd.map(lambda fields: fields[3]).countByValue()"
   ]
  },
  {
   "cell_type": "code",
   "execution_count": 19,
   "metadata": {},
   "outputs": [],
   "source": [
    "# 统计各职业人数"
   ]
  },
  {
   "cell_type": "code",
   "execution_count": 18,
   "metadata": {},
   "outputs": [
    {
     "data": {
      "text/plain": [
       "defaultdict(int,\n",
       "            {'technician': 27,\n",
       "             'other': 105,\n",
       "             'writer': 45,\n",
       "             'executive': 32,\n",
       "             'administrator': 79,\n",
       "             'student': 196,\n",
       "             'lawyer': 12,\n",
       "             'educator': 95,\n",
       "             'scientist': 31,\n",
       "             'entertainment': 18,\n",
       "             'programmer': 66,\n",
       "             'librarian': 51,\n",
       "             'homemaker': 7,\n",
       "             'artist': 28,\n",
       "             'engineer': 67,\n",
       "             'marketing': 26,\n",
       "             'none': 9,\n",
       "             'healthcare': 16,\n",
       "             'retired': 14,\n",
       "             'salesman': 12,\n",
       "             'doctor': 7})"
      ]
     },
     "execution_count": 18,
     "metadata": {},
     "output_type": "execute_result"
    }
   ],
   "source": [
    "count_by_occupation2"
   ]
  },
  {
   "cell_type": "markdown",
   "metadata": {},
   "source": [
    "### 探索电影数据"
   ]
  },
  {
   "cell_type": "code",
   "execution_count": 24,
   "metadata": {},
   "outputs": [
    {
     "data": {
      "text/plain": [
       "1682"
      ]
     },
     "execution_count": 24,
     "metadata": {},
     "output_type": "execute_result"
    }
   ],
   "source": [
    "\n",
    "num_movies = movie_rdd.count()\n",
    "\n",
    "num_movies"
   ]
  },
  {
   "cell_type": "code",
   "execution_count": 35,
   "metadata": {},
   "outputs": [],
   "source": [
    "# 输入影片的发行时间字段，若非法则返回1900\n",
    "def convert_year(x):\n",
    "    try:\n",
    "        return int(x[-4:])\n",
    "    except:\n",
    "        return 1900\n",
    " \n",
    "# 以' | '切分每列，返回影片RDD\n",
    "movie_fields = movie_data.map(lambda lines: lines.split(\"|\"))\n",
    "# 生成新的影片发行年份RDD，并将空/异常的年份置为1900，\n",
    "years = movie_fields.map(lambda fields: fields[2]).map(lambda x: convert_year(x))\n",
    "# 过滤掉影片发行年份RDD中空/异常的记录\n",
    "years_filtered = years.filter(lambda x: x != 1900)"
   ]
  },
  {
   "cell_type": "code",
   "execution_count": 38,
   "metadata": {},
   "outputs": [],
   "source": [
    "# 生成影片年龄RDD，然后统计不同年龄的影片数并落地\n",
    "movie_ages = years_filtered.map(lambda yr: 1998-yr).countByValue()\n",
    "# 获得影片数\n",
    "values = movie_ages.values()\n",
    "# 获得年龄\n",
    "bins = movie_ages.keys()"
   ]
  },
  {
   "cell_type": "code",
   "execution_count": 105,
   "metadata": {},
   "outputs": [
    {
     "data": {
      "text/plain": [
       "dict_keys([3, 2, 4, 31, 21, 5, 33, 16, 8, 6, 7, 61, 1, 17, 28, 26, 37, 59, 57, 30, 29, 44, 27, 10, 25, 19, 11, 12, 9, 24, 18, 13, 32, 41, 38, 14, 15, 23, 0, 58, 48, 34, 47, 36, 65, 42, 35, 40, 53, 22, 20, 39, 56, 45, 52, 43, 60, 64, 49, 50, 55, 54, 62, 63, 68, 46, 67, 76, 51, 66, 72])"
      ]
     },
     "execution_count": 105,
     "metadata": {},
     "output_type": "execute_result"
    }
   ],
   "source": [
    "bins"
   ]
  },
  {
   "cell_type": "code",
   "execution_count": null,
   "metadata": {
    "scrolled": true
   },
   "outputs": [],
   "source": [
    "# 生成影片年龄RDD，然后统计不同年龄的影片数并落地\n",
    "movie_ages = years_filtered.map(lambda yr: 1998-yr).countByValue()\n",
    "# 获得影片数\n",
    "values = movie_ages.values()\n",
    "# 获得年龄\n",
    "bins = movie_ages.keys()\n",
    "# 绘制电影年龄分布图\n",
    "# plt.hist(values, bins=bins, color='lightblue', normed=True)"
   ]
  },
  {
   "cell_type": "markdown",
   "metadata": {},
   "source": [
    "### 探索评级数据"
   ]
  },
  {
   "cell_type": "code",
   "execution_count": 70,
   "metadata": {},
   "outputs": [],
   "source": [
    "num_ratings = ratings_rdd.count()"
   ]
  },
  {
   "cell_type": "code",
   "execution_count": 71,
   "metadata": {},
   "outputs": [
    {
     "data": {
      "text/plain": [
       "100000"
      ]
     },
     "execution_count": 71,
     "metadata": {},
     "output_type": "execute_result"
    }
   ],
   "source": [
    "num_ratings"
   ]
  },
  {
   "cell_type": "code",
   "execution_count": 72,
   "metadata": {},
   "outputs": [],
   "source": [
    "# 获取评分RDD\n",
    "ratings  = ratings_rdd.map(lambda fields: int(fields[2]))"
   ]
  },
  {
   "cell_type": "code",
   "execution_count": 73,
   "metadata": {},
   "outputs": [],
   "source": [
    "# 计算最大/最小评分\n",
    "max_rating = ratings.reduce(lambda x, y: max(x, y))\n",
    "min_rating = ratings.reduce(lambda x, y: min(x, y))"
   ]
  },
  {
   "cell_type": "code",
   "execution_count": 74,
   "metadata": {},
   "outputs": [],
   "source": [
    "# 计算平均/中位评分\n",
    "mean_rating = ratings.reduce(lambda x, y: x + y) / float(num_ratings)\n",
    "median_rating = np.median(ratings.collect())"
   ]
  },
  {
   "cell_type": "code",
   "execution_count": 75,
   "metadata": {},
   "outputs": [],
   "source": [
    "# 计算每个观众/每部电影平均打分/被打分次数\n",
    "ratings_per_user = num_ratings / num_users\n",
    "ratings_per_movie = num_ratings / num_movies"
   ]
  },
  {
   "cell_type": "code",
   "execution_count": 76,
   "metadata": {},
   "outputs": [
    {
     "name": "stdout",
     "output_type": "stream",
     "text": [
      "最低评分: 1\n",
      "最高评分: 5\n",
      "平均评分: 3.53\n",
      "中位评分: 4\n",
      "平均每个用户打分(次数): 106.04\n",
      "平均每部电影评分(次数): 59.45\n"
     ]
    }
   ],
   "source": [
    "print(\"最低评分: %d\" % min_rating)\n",
    "print(\"最高评分: %d\" % max_rating)\n",
    "print(\"平均评分: %2.2f\" % mean_rating)\n",
    "print(\"中位评分: %d\" % median_rating)\n",
    "print(\"平均每个用户打分(次数): %2.2f\" % ratings_per_user)\n",
    "print(\"平均每部电影评分(次数): %2.2f\" % ratings_per_movie)"
   ]
  },
  {
   "cell_type": "code",
   "execution_count": 77,
   "metadata": {},
   "outputs": [
    {
     "data": {
      "text/plain": [
       "(count: 100000, mean: 3.5298600000000024, stdev: 1.125667970762251, max: 5.0, min: 1.0)"
      ]
     },
     "execution_count": 77,
     "metadata": {},
     "output_type": "execute_result"
    }
   ],
   "source": [
    "ratings.stats()"
   ]
  },
  {
   "cell_type": "code",
   "execution_count": 78,
   "metadata": {},
   "outputs": [],
   "source": [
    "# 生成评分统计RDD，并落地\n",
    "count_by_rating = ratings.countByValue()"
   ]
  },
  {
   "cell_type": "code",
   "execution_count": 79,
   "metadata": {},
   "outputs": [],
   "source": [
    "# 生成x/y坐标轴\n",
    "x_axis = np.array(count_by_rating.keys())\n",
    "y_axis = np.array([float(c) for c in count_by_rating.values()])"
   ]
  },
  {
   "cell_type": "code",
   "execution_count": 80,
   "metadata": {},
   "outputs": [],
   "source": [
    "# 对人数做标准化\n",
    "y_axis_normed = y_axis / y_axis.sum()"
   ]
  },
  {
   "cell_type": "code",
   "execution_count": 81,
   "metadata": {},
   "outputs": [
    {
     "data": {
      "text/plain": [
       "(array([0.5, 1.5, 2.5, 3.5, 4.5]), <a list of 5 Text xticklabel objects>)"
      ]
     },
     "execution_count": 81,
     "metadata": {},
     "output_type": "execute_result"
    },
    {
     "data": {
      "image/png": "[encoded data removed]",
      "text/plain": [
       "<Figure size 432x288 with 1 Axes>"
      ]
     },
     "metadata": {
      "needs_background": "light"
     },
     "output_type": "display_data"
    }
   ],
   "source": [
    "# 生成评分统计RDD，并落地\n",
    "count_by_rating = ratings.countByValue()\n",
    "# 生成x/y坐标轴\n",
    "x_axis = np.array(count_by_rating.keys())\n",
    "y_axis = np.array([float(c) for c in count_by_rating.values()])\n",
    "# 对人数做标准化\n",
    "y_axis_normed = y_axis / y_axis.sum()\n",
    " \n",
    "# 生成x轴标签\n",
    "pos = np.arange(len(x_axis.sum()))\n",
    "width = 1.0\n",
    "ax = plt.axes()\n",
    "ax.set_xticks(pos + (width / 2))\n",
    "ax.set_xticklabels(x_axis.sum())\n",
    " \n",
    "# 绘制评分分布柱状图\n",
    "plt.bar(pos, y_axis_normed, width, color='lightblue')\n",
    "plt.xticks(rotation=30)"
   ]
  },
  {
   "cell_type": "code",
   "execution_count": 82,
   "metadata": {},
   "outputs": [],
   "source": [
    "# 首先将数据以用户id为Key分发到各个节点\n",
    "user_ratings_grouped = ratings_rdd.map(lambda fields: (int(fields[0]), int(fields[2]))).groupByKey() \n"
   ]
  },
  {
   "cell_type": "code",
   "execution_count": 88,
   "metadata": {},
   "outputs": [
    {
     "data": {
      "text/plain": [
       "[(196, <pyspark.resultiterable.ResultIterable at 0x7f492138f940>),\n",
       " (186, <pyspark.resultiterable.ResultIterable at 0x7f492138fa20>),\n",
       " (22, <pyspark.resultiterable.ResultIterable at 0x7f492138fac8>),\n",
       " (244, <pyspark.resultiterable.ResultIterable at 0x7f492138f9b0>),\n",
       " (166, <pyspark.resultiterable.ResultIterable at 0x7f492138fb38>)]"
      ]
     },
     "execution_count": 88,
     "metadata": {},
     "output_type": "execute_result"
    }
   ],
   "source": [
    "# 输出前5条记录.take(5)\n",
    "user_ratings_grouped.take(5)"
   ]
  },
  {
   "cell_type": "code",
   "execution_count": 84,
   "metadata": {},
   "outputs": [
    {
     "data": {
      "text/html": [
       "<div>\n",
       "<style scoped>\n",
       "    .dataframe tbody tr th:only-of-type {\n",
       "        vertical-align: middle;\n",
       "    }\n",
       "\n",
       "    .dataframe tbody tr th {\n",
       "        vertical-align: top;\n",
       "    }\n",
       "\n",
       "    .dataframe thead th {\n",
       "        text-align: right;\n",
       "    }\n",
       "</style>\n",
       "<table border=\"1\" class=\"dataframe\">\n",
       "  <thead>\n",
       "    <tr style=\"text-align: right;\">\n",
       "      <th></th>\n",
       "      <th>UserID</th>\n",
       "      <th>MovieID</th>\n",
       "      <th>Rating</th>\n",
       "      <th>Timestamp</th>\n",
       "    </tr>\n",
       "  </thead>\n",
       "  <tbody>\n",
       "    <tr>\n",
       "      <th>0</th>\n",
       "      <td>196</td>\n",
       "      <td>242</td>\n",
       "      <td>3</td>\n",
       "      <td>881250949</td>\n",
       "    </tr>\n",
       "    <tr>\n",
       "      <th>1</th>\n",
       "      <td>186</td>\n",
       "      <td>302</td>\n",
       "      <td>3</td>\n",
       "      <td>891717742</td>\n",
       "    </tr>\n",
       "    <tr>\n",
       "      <th>2</th>\n",
       "      <td>22</td>\n",
       "      <td>377</td>\n",
       "      <td>1</td>\n",
       "      <td>878887116</td>\n",
       "    </tr>\n",
       "  </tbody>\n",
       "</table>\n",
       "</div>"
      ],
      "text/plain": [
       "  UserID MovieID Rating  Timestamp\n",
       "0    196     242      3  881250949\n",
       "1    186     302      3  891717742\n",
       "2     22     377      1  878887116"
      ]
     },
     "execution_count": 84,
     "metadata": {},
     "output_type": "execute_result"
    }
   ],
   "source": [
    "ratings_df[:3]"
   ]
  },
  {
   "cell_type": "code",
   "execution_count": 85,
   "metadata": {},
   "outputs": [],
   "source": [
    "# 函数: 将时间戳格式转换为datetime格式\n",
    "def extract_datetime(ts):\n",
    "    import datetime\n",
    "    return datetime.datetime.fromtimestamp(ts)"
   ]
  },
  {
   "cell_type": "code",
   "execution_count": 86,
   "metadata": {},
   "outputs": [],
   "source": [
    "# 获取小时RDD\n",
    "timestamps = ratings_rdd.map(lambda fields: int(fields[3]))\n",
    "hour_of_day = timestamps.map(lambda ts: extract_datetime(ts).hour)"
   ]
  },
  {
   "cell_type": "code",
   "execution_count": 87,
   "metadata": {},
   "outputs": [
    {
     "data": {
      "text/plain": [
       "[23, 3, 15]"
      ]
     },
     "execution_count": 87,
     "metadata": {},
     "output_type": "execute_result"
    }
   ],
   "source": [
    "hour_of_day.take(3)"
   ]
  },
  {
   "cell_type": "markdown",
   "metadata": {},
   "source": [
    "## 使用Spark对MovieLens的特征进行提取"
   ]
  },
  {
   "cell_type": "code",
   "execution_count": 90,
   "metadata": {},
   "outputs": [],
   "source": [
    "# 获取职业RDD并落地\n",
    "all_occupations = user_rdd.map(lambda fields: fields[3]).distinct().collect()\n",
    "# 对各职业进行排序\n",
    "all_occupations.sort()\n",
    " "
   ]
  },
  {
   "cell_type": "code",
   "execution_count": 92,
   "metadata": {},
   "outputs": [
    {
     "name": "stdout",
     "output_type": "stream",
     "text": [
      "职业编号为“1”的1 of k编码为: [0. 0. 0. 0. 0. 0. 0. 0. 0. 0. 0. 0. 0. 0. 1. 0. 0. 0. 0. 0. 0.]\n"
     ]
    }
   ],
   "source": [
    "# 构建字典\n",
    "idx = 0\n",
    "all_occupations_dict = {}\n",
    "for o in all_occupations:\n",
    "    all_occupations_dict[o] = idx\n",
    "    idx +=1\n",
    " \n",
    "# 生成并打印职业为程序员(programmer)的1 of k编码\n",
    "K = len(all_occupations_dict)\n",
    "binary_x = np.zeros(K)\n",
    "k_programmer = all_occupations_dict['programmer']\n",
    "binary_x[k_programmer] = 1\n",
    "print(\"职业编号为“1”的1 of k编码为: %s\" % binary_x)"
   ]
  },
  {
   "cell_type": "markdown",
   "metadata": {},
   "source": [
    "### 派生特征提取"
   ]
  },
  {
   "cell_type": "code",
   "execution_count": 46,
   "metadata": {},
   "outputs": [],
   "source": [
    "# 获取评分RDD\n",
    "\n",
    "ratings = ratings_rdd.map(lambda fields: int(fields[2]))\n",
    " "
   ]
  },
  {
   "cell_type": "code",
   "execution_count": 94,
   "metadata": {},
   "outputs": [],
   "source": [
    "# 函数: 将时间戳格式转换为datetime格式\n",
    "def extract_datetime(ts):\n",
    "    import datetime\n",
    "    return datetime.datetime.fromtimestamp(ts)"
   ]
  },
  {
   "cell_type": "code",
   "execution_count": 95,
   "metadata": {},
   "outputs": [],
   "source": [
    "# 获取小时RDD\n",
    "timestamps = ratings_rdd.map(lambda fields: int(fields[3]))\n",
    "hour_of_day = timestamps.map(lambda ts: extract_datetime(ts).hour)"
   ]
  },
  {
   "cell_type": "code",
   "execution_count": 96,
   "metadata": {},
   "outputs": [],
   "source": [
    "# 函数: 将小时映射为分类变量并展示\n",
    "def assign_tod(hr):\n",
    "\n",
    "    if hr >7 and hr < 12 :\n",
    "        return 'morning'\n",
    "    elif hr >11 and hr < 14 :\n",
    "        return 'lunch'\n",
    "    elif hr >13 and hr < 18 :\n",
    "        return 'afternoon'\n",
    "    elif hr >17 and hr < 22 :\n",
    "        return 'evening'\n",
    "    else:\n",
    "        return  'night'\n",
    "    "
   ]
  },
  {
   "cell_type": "code",
   "execution_count": 97,
   "metadata": {},
   "outputs": [
    {
     "data": {
      "text/plain": [
       "['night', 'night', 'afternoon', 'lunch', 'lunch']"
      ]
     },
     "execution_count": 97,
     "metadata": {},
     "output_type": "execute_result"
    }
   ],
   "source": [
    "# 获取新的分类变量RDD\n",
    "time_of_day = hour_of_day.map(lambda hr: assign_tod(hr))\n",
    "time_of_day.take(5)"
   ]
  },
  {
   "cell_type": "markdown",
   "metadata": {},
   "source": [
    "### 文本特征提取"
   ]
  },
  {
   "cell_type": "code",
   "execution_count": 99,
   "metadata": {},
   "outputs": [],
   "source": [
    "# 函数: 剔除掉标题中的(年份)部分\n",
    "def extract_title(raw):\n",
    "    import re\n",
    "    grps = re.search(\"\\((\\w+)\\)\", raw)\n",
    "    if grps:\n",
    "        return raw[:grps.start()].strip()\n",
    "    else:\n",
    "        return raw"
   ]
  },
  {
   "cell_type": "code",
   "execution_count": 100,
   "metadata": {},
   "outputs": [],
   "source": [
    "# 获取影片名RDD\n",
    "raw_titles = movie_fields.map(lambda fields: fields[1])\n",
    " \n",
    "# 剔除影片名中的(年份)\n",
    "movie_titles = raw_titles.map(lambda m: extract_title(m))\n",
    " \n",
    "# 由于仅仅是个展示的例子，简简单单用空格分割\n",
    "title_terms = movie_titles.map(lambda t: t.split(\" \"))"
   ]
  },
  {
   "cell_type": "code",
   "execution_count": 101,
   "metadata": {},
   "outputs": [
    {
     "data": {
      "text/plain": [
       "[<1x2645 sparse matrix of type '<class 'numpy.float64'>'\n",
       " \twith 2 stored elements in Compressed Sparse Column format>,\n",
       " <1x2645 sparse matrix of type '<class 'numpy.float64'>'\n",
       " \twith 1 stored elements in Compressed Sparse Column format>,\n",
       " <1x2645 sparse matrix of type '<class 'numpy.float64'>'\n",
       " \twith 2 stored elements in Compressed Sparse Column format>,\n",
       " <1x2645 sparse matrix of type '<class 'numpy.float64'>'\n",
       " \twith 2 stored elements in Compressed Sparse Column format>,\n",
       " <1x2645 sparse matrix of type '<class 'numpy.float64'>'\n",
       " \twith 1 stored elements in Compressed Sparse Column format>]"
      ]
     },
     "execution_count": 101,
     "metadata": {},
     "output_type": "execute_result"
    }
   ],
   "source": [
    "\n",
    "# 搜集所有的词\n",
    "all_terms = title_terms.flatMap(lambda x: x).distinct().collect()\n",
    "# 创建字典\n",
    "idx = 0\n",
    "all_terms_dict = {}\n",
    "for term in all_terms:\n",
    "    all_terms_dict[term] = idx\n",
    "    idx +=1\n",
    "num_terms = len(all_terms_dict)\n",
    " \n",
    "# 函数: 采用稀疏向量格式保存编码后的特征并返回\n",
    "def create_vector(terms, term_dict):\n",
    "    from scipy import sparse as sp\n",
    "    x = sp.csc_matrix((1, num_terms))\n",
    "    for t in terms:\n",
    "        if t in term_dict:\n",
    "            idx = term_dict[t]\n",
    "            x[0, idx] = 1\n",
    "    return x\n",
    " \n",
    "# 将字典保存为广播数据格式类型。因为各个worker都要用\n",
    "all_terms_bcast = sc.broadcast(all_terms_dict)\n",
    "# 采用稀疏矩阵格式保存影片名特征\n",
    "term_vectors = title_terms.map(lambda terms: create_vector(terms, all_terms_bcast.value))\n",
    "# 展示提取结果\n",
    "term_vectors.take(5)"
   ]
  },
  {
   "cell_type": "code",
   "execution_count": 102,
   "metadata": {},
   "outputs": [],
   "source": [
    "all_terms_dict2 = title_terms.flatMap(lambda x: x).distinct().zipWithIndex().collectAsMap()"
   ]
  },
  {
   "cell_type": "markdown",
   "metadata": {},
   "source": [
    "### 归一化特征"
   ]
  },
  {
   "cell_type": "code",
   "execution_count": 103,
   "metadata": {},
   "outputs": [
    {
     "name": "stdout",
     "output_type": "stream",
     "text": [
      "向量x:\n",
      "[ 0.49671415 -0.1382643   0.64768854  1.52302986 -0.23415337 -0.23413696\n",
      "  1.57921282  0.76743473 -0.46947439  0.54256004]\n",
      "向量x的2阶范数: 2.5908\n",
      "归一化后的向量x:\n",
      "[ 0.19172213 -0.05336737  0.24999534  0.58786029 -0.09037871 -0.09037237\n",
      "  0.60954584  0.29621508 -0.1812081   0.20941776]\n",
      "归一化后向量x的2阶范数:\n",
      "1.0000\n"
     ]
    }
   ],
   "source": [
    "# 设置随机数种子\n",
    "np.random.seed(42)\n",
    "# 生成随机向量\n",
    "x = np.random.randn(10)\n",
    "# 产生二阶范数\n",
    "norm_x_2 = np.linalg.norm(x)\n",
    "# 归一化\n",
    "normalized_x = x / norm_x_2\n",
    " \n",
    "# 结果展示\n",
    "print(\"向量x:\\n%s\" % x)\n",
    "print(\"向量x的2阶范数: %2.4f\" % norm_x_2)\n",
    "print( \"归一化后的向量x:\\n%s\" % normalized_x)\n",
    "print(\"归一化后向量x的2阶范数:\\n%2.4f\" % np.linalg.norm(normalized_x))"
   ]
  },
  {
   "cell_type": "code",
   "execution_count": 104,
   "metadata": {},
   "outputs": [
    {
     "name": "stdout",
     "output_type": "stream",
     "text": [
      "向量x:\n",
      "[ 0.49671415 -0.1382643   0.64768854  1.52302986 -0.23415337 -0.23413696\n",
      "  1.57921282  0.76743473 -0.46947439  0.54256004]\n",
      "向量x的二阶范数: 2.5908\n",
      "被MLlib归一化后的向量x:\n",
      "[ 0.19172213 -0.05336737  0.24999534  0.58786029 -0.09037871 -0.09037237\n",
      "  0.60954584  0.29621508 -0.1812081   0.20941776]\n",
      "被MLlib归一化后的向量x的二阶范数: 1.0000\n"
     ]
    }
   ],
   "source": [
    "# 导入Spark库中的正则化类\n",
    "from pyspark.mllib.feature import Normalizer\n",
    "# 初始化正则化对象\n",
    "normalizer = Normalizer()\n",
    "# 创建测试向量(RDD)\n",
    "vector = sc.parallelize([x])\n",
    "# 对向量进行归一化并返回结果\n",
    "normalized_x_mllib = normalizer.transform(vector).first().toArray()\n",
    "  \n",
    "# 结果展示\n",
    "print(\"向量x:\\n%s\" % x)\n",
    "print(\"向量x的二阶范数: %2.4f\" % norm_x_2)\n",
    "print(\"被MLlib归一化后的向量x:\\n%s\" % normalized_x_mllib)\n",
    "print(\"被MLlib归一化后的向量x的二阶范数: %2.4f\" % np.linalg.norm(normalized_x_mllib)) "
   ]
  },
  {
   "cell_type": "code",
   "execution_count": null,
   "metadata": {},
   "outputs": [],
   "source": []
  }
 ],
 "metadata": {
  "kernelspec": {
   "display_name": "Python 3",
   "language": "python",
   "name": "python3"
  },
  "language_info": {
   "codemirror_mode": {
    "name": "ipython",
    "version": 3
   },
   "file_extension": ".py",
   "mimetype": "text/x-python",
   "name": "python",
   "nbconvert_exporter": "python",
   "pygments_lexer": "ipython3",
   "version": "3.7.1"
  }
 },
 "nbformat": 4,
 "nbformat_minor": 2
}
